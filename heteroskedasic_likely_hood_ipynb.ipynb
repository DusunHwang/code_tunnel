{
  "nbformat": 4,
  "nbformat_minor": 0,
  "metadata": {
    "colab": {
      "provenance": [],
      "authorship_tag": "ABX9TyNtTnmMgn2e7d0RzLRU67Dl",
      "include_colab_link": true
    },
    "kernelspec": {
      "name": "python3",
      "display_name": "Python 3"
    },
    "language_info": {
      "name": "python"
    }
  },
  "cells": [
    {
      "cell_type": "markdown",
      "metadata": {
        "id": "view-in-github",
        "colab_type": "text"
      },
      "source": [
        "<a href=\"https://colab.research.google.com/github/DusunHwang/code_tunnel/blob/main/heteroskedasic_likely_hood_ipynb.ipynb\" target=\"_parent\"><img src=\"https://colab.research.google.com/assets/colab-badge.svg\" alt=\"Open In Colab\"/></a>"
      ]
    },
    {
      "cell_type": "code",
      "execution_count": null,
      "metadata": {
        "colab": {
          "base_uri": "https://localhost:8080/",
          "height": 217
        },
        "id": "amFos-PChiz-",
        "outputId": "adcbe881-0512-483b-a0c3-ec44f41b028d"
      },
      "outputs": [
        {
          "output_type": "error",
          "ename": "NameError",
          "evalue": "name 'x' is not defined",
          "traceback": [
            "\u001b[0;31m---------------------------------------------------------------------------\u001b[0m",
            "\u001b[0;31mNameError\u001b[0m                                 Traceback (most recent call last)",
            "\u001b[0;32m<ipython-input-4-7c925d414179>\u001b[0m in \u001b[0;36m<cell line: 0>\u001b[0;34m()\u001b[0m\n\u001b[1;32m     14\u001b[0m \u001b[0mX_raw\u001b[0m \u001b[0;34m=\u001b[0m \u001b[0mnp\u001b[0m\u001b[0;34m.\u001b[0m\u001b[0mrandom\u001b[0m\u001b[0;34m.\u001b[0m\u001b[0mrand\u001b[0m\u001b[0;34m(\u001b[0m\u001b[0mN\u001b[0m\u001b[0;34m,\u001b[0m \u001b[0mD\u001b[0m\u001b[0;34m)\u001b[0m\u001b[0;34m\u001b[0m\u001b[0;34m\u001b[0m\u001b[0m\n\u001b[1;32m     15\u001b[0m \u001b[0mtrue_function\u001b[0m \u001b[0;34m=\u001b[0m \u001b[0;32mlambda\u001b[0m \u001b[0mx\u001b[0m\u001b[0;34m:\u001b[0m \u001b[0mnp\u001b[0m\u001b[0;34m.\u001b[0m\u001b[0msin\u001b[0m\u001b[0;34m(\u001b[0m\u001b[0mx\u001b[0m\u001b[0;34m[\u001b[0m\u001b[0;34m:\u001b[0m\u001b[0;34m,\u001b[0m \u001b[0;36m0\u001b[0m\u001b[0;34m]\u001b[0m \u001b[0;34m*\u001b[0m \u001b[0;36m6.28\u001b[0m\u001b[0;34m)\u001b[0m \u001b[0;34m+\u001b[0m \u001b[0;36m0.5\u001b[0m \u001b[0;34m*\u001b[0m \u001b[0mx\u001b[0m\u001b[0;34m[\u001b[0m\u001b[0;34m:\u001b[0m\u001b[0;34m,\u001b[0m \u001b[0;36m1\u001b[0m\u001b[0;34m]\u001b[0m  \u001b[0;31m# 일부 조성 feature만 사용\u001b[0m\u001b[0;34m\u001b[0m\u001b[0;34m\u001b[0m\u001b[0m\n\u001b[0;32m---> 16\u001b[0;31m \u001b[0mnoise_std\u001b[0m \u001b[0;34m=\u001b[0m \u001b[0;36m0.1\u001b[0m \u001b[0;34m+\u001b[0m \u001b[0;36m0.4\u001b[0m \u001b[0;34m*\u001b[0m \u001b[0mnp\u001b[0m\u001b[0;34m.\u001b[0m\u001b[0msquare\u001b[0m\u001b[0;34m(\u001b[0m\u001b[0mx\u001b[0m\u001b[0;34m[\u001b[0m\u001b[0;34m:\u001b[0m\u001b[0;34m,\u001b[0m \u001b[0;36m2\u001b[0m\u001b[0;34m]\u001b[0m\u001b[0;34m)\u001b[0m  \u001b[0;31m# 입력 의존적 노이즈\u001b[0m\u001b[0;34m\u001b[0m\u001b[0;34m\u001b[0m\u001b[0m\n\u001b[0m\u001b[1;32m     17\u001b[0m \u001b[0my_raw\u001b[0m \u001b[0;34m=\u001b[0m \u001b[0mtrue_function\u001b[0m\u001b[0;34m(\u001b[0m\u001b[0mX_raw\u001b[0m\u001b[0;34m)\u001b[0m \u001b[0;34m+\u001b[0m \u001b[0mnoise_std\u001b[0m \u001b[0;34m*\u001b[0m \u001b[0mnp\u001b[0m\u001b[0;34m.\u001b[0m\u001b[0mrandom\u001b[0m\u001b[0;34m.\u001b[0m\u001b[0mrandn\u001b[0m\u001b[0;34m(\u001b[0m\u001b[0mN\u001b[0m\u001b[0;34m)\u001b[0m\u001b[0;34m\u001b[0m\u001b[0;34m\u001b[0m\u001b[0m\n\u001b[1;32m     18\u001b[0m \u001b[0;34m\u001b[0m\u001b[0m\n",
            "\u001b[0;31mNameError\u001b[0m: name 'x' is not defined"
          ]
        }
      ],
      "source": [
        "# !pip install gpytorch\n",
        "import torch\n",
        "import gpytorch\n",
        "import numpy as np\n",
        "\n",
        "from sklearn.preprocessing import StandardScaler\n",
        "from sklearn.model_selection import train_test_split\n",
        "import matplotlib.pyplot as plt\n",
        "\n",
        "# -------------------------\n",
        "# 예제용 고차원 조성 데이터 생성\n",
        "# -------------------------\n",
        "N, D = 300, 100  # 샘플 수, 조성 차원 수\n",
        "X_raw = np.random.rand(N, D)\n",
        "true_function = lambda x: np.sin(x[:, 0] * 6.28) + 0.5 * x[:, 1]  # 일부 조성 feature만 사용\n",
        "noise_std = 0.1 + 0.4 * np.square(x[:, 2])  # 입력 의존적 노이즈\n",
        "y_raw = true_function(X_raw) + noise_std * np.random.randn(N)\n",
        "\n",
        "# 스케일링\n",
        "scaler_x = StandardScaler().fit(X_raw)\n",
        "X = torch.tensor(scaler_x.transform(X_raw)).float()\n",
        "y = torch.tensor(y_raw).float()\n",
        "\n",
        "# -------------------------\n",
        "# 훈련/테스트 분할\n",
        "# -------------------------\n",
        "train_x, test_x, train_y, test_y = train_test_split(X, y, test_size=0.2, random_state=0)\n",
        "\n",
        "# -------------------------\n",
        "# 메인 GPR 모델\n",
        "# -------------------------\n",
        "class MainGPR(gpytorch.models.ExactGP):\n",
        "    def __init__(self, train_x, train_y, likelihood):\n",
        "        super().__init__(train_x, train_y, likelihood)\n",
        "        self.mean_module = gpytorch.means.ZeroMean()\n",
        "        self.covar_module = gpytorch.kernels.ScaleKernel(\n",
        "            gpytorch.kernels.RBFKernel(ard_num_dims=train_x.shape[1])\n",
        "        )\n",
        "\n",
        "    def forward(self, x):\n",
        "        mean_x = self.mean_module(x)\n",
        "        covar_x = self.covar_module(x)\n",
        "        return gpytorch.distributions.MultivariateNormal(mean_x, covar_x)\n",
        "\n",
        "# -------------------------\n",
        "# 노이즈 GPR (residual variance 예측)\n",
        "# -------------------------\n",
        "class NoiseModel(gpytorch.models.ExactGP):\n",
        "    def __init__(self, x, y):\n",
        "        super().__init__(x, y, gpytorch.likelihoods.GaussianLikelihood())\n",
        "        self.mean_module = gpytorch.means.ConstantMean()\n",
        "        self.covar_module = gpytorch.kernels.RBFKernel(ard_num_dims=x.shape[1])\n",
        "\n",
        "    def forward(self, x):\n",
        "        return gpytorch.distributions.MultivariateNormal(\n",
        "            self.mean_module(x), self.covar_module(x)\n",
        "        )\n",
        "\n",
        "# -------------------------\n",
        "# Heteroskedastic Likelihood + 모델 정의\n",
        "# -------------------------\n",
        "hetero_likelihood = gpytorch.likelihoods.HeteroskedasticNoise()\n",
        "# 초기 residual (y - mean)^2 을 통해 noise model 학습\n",
        "residual_init = (train_y - train_y.mean())**2 + 1e-4\n",
        "hetero_likelihood.noise_model = NoiseModel(train_x, residual_init)\n",
        "\n",
        "main_model = MainGPR(train_x, train_y, hetero_likelihood)\n",
        "\n",
        "# -------------------------\n",
        "# 학습 루프\n",
        "# -------------------------\n",
        "def train_model(model, likelihood, n_iter=150):\n",
        "    model.train()\n",
        "    likelihood.train()\n",
        "    optimizer = torch.optim.Adam(model.parameters(), lr=0.1)\n",
        "    mll = gpytorch.mlls.ExactMarginalLogLikelihood(likelihood, model)\n",
        "    for i in range(n_iter):\n",
        "        optimizer.zero_grad()\n",
        "        output = model(train_x)\n",
        "        loss = -mll(output, train_y)\n",
        "        loss.backward()\n",
        "        if i % 10 == 0:\n",
        "            print(f\"Iter {i} - Loss: {loss.item():.3f}\")\n",
        "        optimizer.step()\n",
        "\n",
        "train_model(main_model, hetero_likelihood)\n",
        "\n",
        "# -------------------------\n",
        "# 예측 및 시각화\n",
        "# -------------------------\n",
        "main_model.eval()\n",
        "hetero_likelihood.eval()\n",
        "with torch.no_grad(), gpytorch.settings.fast_pred_var():\n",
        "    preds = hetero_likelihood(main_model(test_x))\n",
        "    mean = preds.mean\n",
        "    lower, upper = preds.confidence_region()\n",
        "\n",
        "# 산점도로 예측 vs 실제 보기\n",
        "plt.figure(figsize=(6, 6))\n",
        "plt.errorbar(test_y.numpy(), mean.numpy(), yerr=(upper - mean).numpy(), fmt='o', alpha=0.6)\n",
        "plt.plot([test_y.min(), test_y.max()], [test_y.min(), test_y.max()], 'k--')\n",
        "plt.xlabel(\"True Property\")\n",
        "plt.ylabel(\"Predicted Property\")\n",
        "plt.title(\"Heteroskedastic GPR: Prediction vs Ground Truth\")\n",
        "plt.grid(True)\n",
        "plt.show()"
      ]
    },
    {
      "cell_type": "code",
      "source": [],
      "metadata": {
        "id": "DxuYZJLZh995"
      },
      "execution_count": null,
      "outputs": []
    }
  ]
}